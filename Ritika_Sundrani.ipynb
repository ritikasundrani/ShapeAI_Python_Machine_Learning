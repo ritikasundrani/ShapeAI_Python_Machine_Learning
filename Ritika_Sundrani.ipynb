{
  "nbformat": 4,
  "nbformat_minor": 0,
  "metadata": {
    "colab": {
      "name": "Ritika_Sundrani.ipynb",
      "provenance": []
    },
    "kernelspec": {
      "name": "python3",
      "display_name": "Python 3"
    },
    "language_info": {
      "name": "python"
    }
  },
  "cells": [
    {
      "cell_type": "code",
      "metadata": {
        "id": "Bq3vDvZZ0Ya-"
      },
      "source": [
        "import numpy as np \n",
        "import pandas as pd\n",
        "import sklearn"
      ],
      "execution_count": 20,
      "outputs": []
    },
    {
      "cell_type": "code",
      "metadata": {
        "id": "9rYzlzqB1TNB"
      },
      "source": [
        "from sklearn.datasets import load_boston\n",
        "df= load_boston()"
      ],
      "execution_count": 21,
      "outputs": []
    },
    {
      "cell_type": "code",
      "metadata": {
        "colab": {
          "base_uri": "https://localhost:8080/"
        },
        "id": "JC6lgUy519bv",
        "outputId": "9a72788f-66d3-49c2-fbfc-e7fc46c15cf8"
      },
      "source": [
        "df.keys()"
      ],
      "execution_count": 3,
      "outputs": [
        {
          "output_type": "execute_result",
          "data": {
            "text/plain": [
              "dict_keys(['data', 'target', 'feature_names', 'DESCR', 'filename'])"
            ]
          },
          "metadata": {
            "tags": []
          },
          "execution_count": 3
        }
      ]
    },
    {
      "cell_type": "code",
      "metadata": {
        "id": "d7n9kRDo2Fxt"
      },
      "source": [
        "print(df.DESCR)"
      ],
      "execution_count": null,
      "outputs": []
    },
    {
      "cell_type": "code",
      "metadata": {
        "id": "EW17Tv372ZQA"
      },
      "source": [
        "boston= pd.DataFrame(df.data, columns=df.feature_names)\n",
        "boston.head()\n"
      ],
      "execution_count": null,
      "outputs": []
    },
    {
      "cell_type": "code",
      "metadata": {
        "id": "LfYa-YcU3TSL"
      },
      "source": [
        "boston['MEDV']=df.target\n",
        "boston.head()\n"
      ],
      "execution_count": null,
      "outputs": []
    },
    {
      "cell_type": "code",
      "metadata": {
        "id": "KUWB7JTG35-i"
      },
      "source": [
        "boston.isnull()\n"
      ],
      "execution_count": null,
      "outputs": []
    },
    {
      "cell_type": "code",
      "metadata": {
        "id": "DsePH55a4IHV"
      },
      "source": [
        "boston.isnull().sum()"
      ],
      "execution_count": null,
      "outputs": []
    },
    {
      "cell_type": "code",
      "metadata": {
        "id": "cKuQWP-N4VsY"
      },
      "source": [
        "from sklearn.model_selection import train_test_split\n",
        "X=boston.drop('MEDV', axis=1)\n",
        "Y=boston['MEDV']\n",
        "X_train, X_test, Y_train, Y_test=train_test_split(X,Y,test_size=0.15, random_state=5)\n",
        "print(X_train.shape)\n",
        "print(X_test.shape)\n",
        "print(Y_train.shape)\n",
        "print(Y_test.shape)\n",
        "\n"
      ],
      "execution_count": null,
      "outputs": []
    },
    {
      "cell_type": "code",
      "metadata": {
        "id": "7u_YeUbS7iJ4"
      },
      "source": [
        "from sklearn.linear_model import LinearRegression\n",
        "from sklearn.metrics import mean_squared_error\n"
      ],
      "execution_count": 22,
      "outputs": []
    },
    {
      "cell_type": "code",
      "metadata": {
        "colab": {
          "base_uri": "https://localhost:8080/"
        },
        "id": "6H-yn1w-8JoP",
        "outputId": "a985f4f7-8158-41ce-e3df-4d263547e0a5"
      },
      "source": [
        "lin_model=LinearRegression()\n",
        "lin_model.fit(X_train, Y_train)\n"
      ],
      "execution_count": 17,
      "outputs": [
        {
          "output_type": "execute_result",
          "data": {
            "text/plain": [
              "LinearRegression(copy_X=True, fit_intercept=True, n_jobs=None, normalize=False)"
            ]
          },
          "metadata": {
            "tags": []
          },
          "execution_count": 17
        }
      ]
    },
    {
      "cell_type": "code",
      "metadata": {
        "colab": {
          "base_uri": "https://localhost:8080/"
        },
        "id": "_RNuQ21C8pA8",
        "outputId": "b6e7fdaa-c8ba-41e6-bba7-2503cad1f9dd"
      },
      "source": [
        "y_train_predict= lin_model.predict(X_train)\n",
        "rmse=(np.sqrt(mean_squared_error(Y_train, y_train_predict)))\n",
        "\n",
        "print(\"the model performance for training set\")\n",
        "print('RMSE is {}'.format(rmse))\n",
        "print(\"\\n\")\n",
        "\n",
        "y_test_predict=lin_model.predict(X_test)\n",
        "rmse=(np.sqrt(mean_squared_error(Y_test, y_test_predict)))\n",
        "print(\"the model performance for training set\")\n",
        "print('RMSE is {}'.format(rmse))\n",
        "\n",
        "\n",
        "\n"
      ],
      "execution_count": 19,
      "outputs": [
        {
          "output_type": "stream",
          "text": [
            "the model performance for training set\n",
            "RMSE is 4.710901797319796\n",
            "\n",
            "\n",
            "the model performance for training set\n",
            "RMSE is 4.687543527902972\n"
          ],
          "name": "stdout"
        }
      ]
    }
  ]
}